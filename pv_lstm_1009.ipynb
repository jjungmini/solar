{
  "nbformat": 4,
  "nbformat_minor": 0,
  "metadata": {
    "colab": {
      "provenance": [],
      "authorship_tag": "ABX9TyMBd3jHJrAdup4LCR3Q8v/+",
      "include_colab_link": true
    },
    "kernelspec": {
      "name": "python3",
      "display_name": "Python 3"
    },
    "language_info": {
      "name": "python"
    }
  },
  "cells": [
    {
      "cell_type": "markdown",
      "metadata": {
        "id": "view-in-github",
        "colab_type": "text"
      },
      "source": [
        "<a href=\"https://colab.research.google.com/github/jjungmini/solar/blob/main/pv_lstm_1009.ipynb\" target=\"_parent\"><img src=\"https://colab.research.google.com/assets/colab-badge.svg\" alt=\"Open In Colab\"/></a>"
      ]
    },
    {
      "cell_type": "code",
      "execution_count": 1,
      "metadata": {
        "id": "z8G-KXEKUegr"
      },
      "outputs": [],
      "source": [
        "import pandas as pd\n",
        "from sklearn.preprocessing import MinMaxScaler\n",
        "from sklearn.linear_model import ElasticNetCV\n",
        "from sklearn.metrics import mean_squared_error, mean_absolute_error, r2_score\n",
        "import numpy as np\n",
        "import matplotlib.pyplot as plt\n",
        "import seaborn as sns"
      ]
    },
    {
      "cell_type": "code",
      "source": [
        "# 데이터 로딩\n",
        "df = pd.read_csv('solar_with_emissions_0228.csv')\n",
        "\n",
        "# 날짜를 datetime 타입으로 변환\n",
        "df['Date'] = pd.to_datetime(df['Date'], format='%Y-%m-%d-%H')\n",
        "\n",
        "# 타겟 변수를 위한 별도의 스케일러 정의\n",
        "target_scaler = MinMaxScaler()\n",
        "df['Solarpower'] = target_scaler.fit_transform(df[['Solarpower']])\n",
        "\n",
        "# 특성만 정규화하기 위해 Scaler 정의\n",
        "scaler = MinMaxScaler()\n",
        "# Solarpower 제외하고 정규화\n",
        "features = df.drop(columns=['Date', 'Solarpower'])\n",
        "df[features.columns] = scaler.fit_transform(features)\n",
        "\n",
        "# 특성들 간의 상관관계 계산을 위해 타겟 변수 제외\n",
        "correlation_matrix = df.drop(columns=['Date', 'Solarpower']).corr()\n",
        "\n",
        "# 상관관계 히트맵 그리기\n",
        "plt.figure(figsize=(10, 8))\n",
        "sns.heatmap(correlation_matrix, annot=True, cmap='coolwarm', fmt=\".2f\")\n",
        "plt.title(\"Correlation Heatmap\")\n",
        "plt.show()"
      ],
      "metadata": {
        "id": "bP8RTWIehCWn"
      },
      "execution_count": null,
      "outputs": []
    },
    {
      "cell_type": "code",
      "source": [
        "# 훈련 데이터와 테스트 데이터로 분리\n",
        "train = df[df['Date'] < '2022-12-01']\n",
        "test = df[(df['Date'] >= '2022-12-01') & (df['Date'] < '2023-01-01')]"
      ],
      "metadata": {
        "id": "jpDNn5lWiVS1"
      },
      "execution_count": 3,
      "outputs": []
    },
    {
      "cell_type": "markdown",
      "source": [
        "# feature selection"
      ],
      "metadata": {
        "id": "Dq16R48niy_i"
      }
    },
    {
      "cell_type": "code",
      "source": [
        "# 훈련 데이터를 이용하여 특성 선택을 위한 ElasticNetCV 모델을 생성합니다\n",
        "enet_train = ElasticNetCV(\n",
        "    alphas=[0.001, 0.01, 0.1, 1, 10],        # 후보 alpha 값 리스트\n",
        "    l1_ratio=[0.1, 0.3, 0.5, 0.7, 0.9],     # 후보 l1_ratio 값 리스트\n",
        "    cv=5,                                   # 5-fold cross-validation 사용\n",
        "    n_alphas=1000,                           # 100개의 alpha 값 생성\n",
        "    max_iter=1000,                          # 최대 반복 횟수\n",
        "    tol=1e-4,                               # 수렴 기준\n",
        "    verbose=False,                          # 로그 출력 비활성화\n",
        "    precompute='auto',                      # 자동으로 사전 계산된 Gram 행렬 결정\n",
        "    selection='random',                      # 랜덤하게 특성 선택\n",
        "    random_state=42\n",
        ")\n",
        "enet_train.fit(train.drop(columns=['Date', 'Solarpower', 'YY', 'MM', 'DD', 'HH', 'Pressure_sealevel', 'CO', 'O3', 'NO2']), train['Solarpower'])\n",
        "# alpha 값을 출력합니다.\n",
        "print('Best alpha: ', enet_train.alpha_)\n",
        "\n",
        "# 선택된 특성만 남김\n",
        "selected_features_train = train.drop(columns=['Date', 'Solarpower',  'YY', 'MM', 'DD', 'HH', 'Pressure_sealevel', 'CO', 'O3', 'NO2']).columns[enet_train.coef_ != 0]\n",
        "train = train[['Date', 'Solarpower'] + selected_features_train.tolist()]\n",
        "\n",
        "# 선택된 특성 출력\n",
        "print(\"Selected features: \", selected_features_train.tolist())"
      ],
      "metadata": {
        "id": "M9GdBiIyigGr",
        "colab": {
          "base_uri": "https://localhost:8080/"
        },
        "outputId": "dd6fd155-0cbe-42cf-ca1b-69c6b3823cef"
      },
      "execution_count": 4,
      "outputs": [
        {
          "output_type": "stream",
          "name": "stdout",
          "text": [
            "Best alpha:  0.001\n",
            "Selected features:  ['Temp_air', 'Windspeed', 'Pressure_air', 'Sunshine', 'Insolation', 'SO2']\n"
          ]
        }
      ]
    },
    {
      "cell_type": "code",
      "source": [
        "# ElasticNetCV의 결과를 출력합니다.\n",
        "# 특성 중요도를 시각화합니다.\n",
        "plt.figure(figsize=(10, 6))\n",
        "plt.barh(range(len(enet_train.coef_)), enet_train.coef_)\n",
        "plt.xlabel('Feature Importance')\n",
        "plt.ylabel('Features')\n",
        "plt.yticks(range(len(enet_train.coef_)), enet_train.feature_names_in_)\n",
        "plt.title('Feature importance by ElasticNetCV (Train Data)')\n",
        "plt.show()"
      ],
      "metadata": {
        "colab": {
          "base_uri": "https://localhost:8080/",
          "height": 564
        },
        "id": "cpmfacb0-EEP",
        "outputId": "2dc4eaff-2b87-4940-cc9c-9ffaca3ceeed"
      },
      "execution_count": 5,
      "outputs": [
        {
          "output_type": "display_data",
          "data": {
            "text/plain": [
              "<Figure size 1000x600 with 1 Axes>"
            ],
            "image/png": "[encoded data removed]"
          },
          "metadata": {}
        }
      ]
    },
    {
      "cell_type": "code",
      "source": [
        "#선택된 특성 데이터 셋\n",
        "X_train = train[['Date'] + selected_features_train.tolist()].set_index(['Date'], drop=True)\n",
        "y_train = train[['Date', 'Solarpower']].set_index(['Date'], drop=True)\n",
        "X_test = test[['Date'] + selected_features_train.tolist()].set_index(['Date'], drop=True)\n",
        "y_test = test[['Date', 'Solarpower']].set_index(['Date'], drop=True)"
      ],
      "metadata": {
        "id": "UIdeFKbjgiNB"
      },
      "execution_count": 19,
      "outputs": []
    },
    {
      "cell_type": "markdown",
      "source": [
        "# LSTM"
      ],
      "metadata": {
        "id": "Zz2sltP8-aEN"
      }
    },
    {
      "cell_type": "code",
      "source": [
        "pip install tensorflow"
      ],
      "metadata": {
        "id": "uHY4aKohGxLg"
      },
      "execution_count": null,
      "outputs": []
    },
    {
      "cell_type": "code",
      "source": [
        "# tensorflow.python.keras을 사용하면 fit 함수 안돌아감\n",
        "from tensorflow.keras.models import Sequential\n",
        "from tensorflow.keras.layers import LSTM, Dense\n",
        "import tensorflow as tf\n",
        "import numpy as np\n",
        "from tensorflow import keras\n",
        "from tensorflow.keras import layers"
      ],
      "metadata": {
        "id": "V67Yo86z-e8v"
      },
      "execution_count": 7,
      "outputs": []
    },
    {
      "cell_type": "code",
      "source": [
        "# data reformatting for LSTM\n",
        "pred_days = 24  # prediction period\n",
        "seq_len = 48   # sequence length = past days for future prediction.\n",
        "input_dim = 6  # input_dimension = ['Open', 'High', 'Low', 'Close', 'Volume']\n",
        "\n",
        "lstm_X_train = []\n",
        "lstm_y_train = []\n",
        "lstm_X_test = []\n",
        "lstm_y_test = []\n",
        "\n",
        "for i in range(seq_len, X_train.shape[0]-pred_days +1):\n",
        "    lstm_X_train.append(X_train.iloc[i - seq_len:i, :])\n",
        "    lstm_y_train.append(y_train.iloc[i + pred_days - 1:i + pred_days, :])\n",
        "\n",
        "for i in range(seq_len, len(X_test)-pred_days +1):\n",
        "    lstm_X_test.append(X_test.iloc[i - seq_len:i, : ])\n",
        "    lstm_y_test.append(y_test.iloc[i + pred_days - 1:i + pred_days, :])\n",
        "\n",
        "lstm_X_train, lstm_y_train = np.array(lstm_X_train), np.array(lstm_y_train)\n",
        "lstm_X_test, lstm_y_test = np.array(lstm_X_test), np.array(lstm_y_test)"
      ],
      "metadata": {
        "id": "TmyUw3DSfINn"
      },
      "execution_count": 41,
      "outputs": []
    },
    {
      "cell_type": "code",
      "source": [
        "# 모델 생성\n",
        "model=Sequential()\n",
        "model.add(LSTM(units=64,return_sequences=True,input_shape= (lstm_X_train.shape[1], 6)))\n",
        "model.add(LSTM(32, return_sequences=False))\n",
        "model.add(Dense(1))\n",
        "model.compile(loss='mse', optimizer='adam')\n",
        "model.summary()"
      ],
      "metadata": {
        "colab": {
          "base_uri": "https://localhost:8080/"
        },
        "id": "ILOTXOfcETkE",
        "outputId": "3a6c1efb-b30d-48d2-d84f-4932eb4563b1"
      },
      "execution_count": 71,
      "outputs": [
        {
          "output_type": "stream",
          "name": "stdout",
          "text": [
            "Model: \"sequential_6\"\n",
            "_________________________________________________________________\n",
            " Layer (type)                Output Shape              Param #   \n",
            "=================================================================\n",
            " lstm_5 (LSTM)               (None, 48, 64)            18176     \n",
            "                                                                 \n",
            " lstm_6 (LSTM)               (None, 32)                12416     \n",
            "                                                                 \n",
            " dense_4 (Dense)             (None, 1)                 33        \n",
            "                                                                 \n",
            "=================================================================\n",
            "Total params: 30625 (119.63 KB)\n",
            "Trainable params: 30625 (119.63 KB)\n",
            "Non-trainable params: 0 (0.00 Byte)\n",
            "_________________________________________________________________\n"
          ]
        }
      ]
    },
    {
      "cell_type": "code",
      "source": [
        "# 모델 학습\n",
        "model.fit(lstm_X_train, lstm_y_train)"
      ],
      "metadata": {
        "colab": {
          "base_uri": "https://localhost:8080/"
        },
        "id": "CvI2pxGoEw-6",
        "outputId": "77cf5101-776c-4f32-9c29-46a6690efdda"
      },
      "execution_count": 72,
      "outputs": [
        {
          "output_type": "stream",
          "name": "stdout",
          "text": [
            "797/797 [==============================] - 28s 31ms/step - loss: 0.0129\n"
          ]
        },
        {
          "output_type": "execute_result",
          "data": {
            "text/plain": [
              "<keras.src.callbacks.History at 0x7f75212e2e60>"
            ]
          },
          "metadata": {},
          "execution_count": 72
        }
      ]
    },
    {
      "cell_type": "code",
      "source": [
        "prediction = model.predict(lstm_X_test)\n",
        "print(prediction.shape, lstm_y_test.shape)"
      ],
      "metadata": {
        "id": "4tuLH_SSfHcr",
        "outputId": "9810c84c-b72c-45f8-f6c5-f416baf913bf",
        "colab": {
          "base_uri": "https://localhost:8080/"
        }
      },
      "execution_count": 73,
      "outputs": [
        {
          "output_type": "stream",
          "name": "stdout",
          "text": [
            "22/22 [==============================] - 1s 9ms/step\n",
            "(673, 1) (673, 1, 1)\n"
          ]
        }
      ]
    },
    {
      "cell_type": "code",
      "source": [
        "d3_pred = prediction[:, np.newaxis]"
      ],
      "metadata": {
        "id": "aYpBNr-niTKX"
      },
      "execution_count": 96,
      "outputs": []
    },
    {
      "cell_type": "code",
      "source": [
        "#예측된 값을 원래 스케일로 역변환\n",
        "predictions = target_scaler.inverse_transform(forecast_test.yhat.values.reshape(-1,1))\n",
        "# 테스트 데이터셋의 실제 타겟 변수 값을 가져옴\n",
        "actual_values = test['Solarpower'].values.reshape(-1, 1)\n",
        "actual_values = target_scaler.inverse_transform(actual_values)"
      ],
      "metadata": {
        "id": "EYa7XpDTZm58"
      },
      "execution_count": null,
      "outputs": []
    }
  ]
}